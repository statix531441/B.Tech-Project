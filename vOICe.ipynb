{
 "cells": [
  {
   "cell_type": "code",
   "execution_count": 2,
   "id": "973afe95-6b24-4d82-896c-8b0fd4999eef",
   "metadata": {},
   "outputs": [],
   "source": [
    "import numpy as np\n",
    "from scipy.io import wavfile\n",
    "import cv2\n",
    "import matplotlib.pyplot as plt\n",
    "\n",
    "res = (512,256)"
   ]
  },
  {
   "cell_type": "code",
   "execution_count": 3,
   "id": "c92d6549-6363-4187-a7e6-6fc4032cfabb",
   "metadata": {},
   "outputs": [
    {
     "data": {
      "text/plain": [
       "(256, 512)"
      ]
     },
     "execution_count": 3,
     "metadata": {},
     "output_type": "execute_result"
    }
   ],
   "source": [
    "dmap = cv2.imread('dmaps/frame_0000.png',cv2.IMREAD_GRAYSCALE)\n",
    "dmap = cv2.resize(dmap, res)\n",
    "dmap = dmap/dmap.max()\n",
    "dmap.shape"
   ]
  },
  {
   "cell_type": "code",
   "execution_count": 4,
   "id": "1ffeea39-1bdd-48c2-9187-19b3658e3e90",
   "metadata": {},
   "outputs": [
    {
     "data": {
      "text/plain": [
       "<matplotlib.image.AxesImage at 0x168ba6eed88>"
      ]
     },
     "execution_count": 4,
     "metadata": {},
     "output_type": "execute_result"
    },
    {
     "data": {
      "image/png": "[encoded data removed]",
      "text/plain": [
       "<Figure size 432x288 with 1 Axes>"
      ]
     },
     "metadata": {
      "needs_background": "light"
     },
     "output_type": "display_data"
    }
   ],
   "source": [
    "plt.imshow(dmap)"
   ]
  },
  {
   "cell_type": "code",
   "execution_count": 5,
   "id": "e4c7b491-b557-419e-a3c2-4e63895a34d5",
   "metadata": {},
   "outputs": [
    {
     "data": {
      "text/plain": [
       "21400"
      ]
     },
     "execution_count": 5,
     "metadata": {},
     "output_type": "execute_result"
    }
   ],
   "source": [
    "freqs = np.arange(1000,1000+(dmap.shape[0]*80),80)\n",
    "freqs.max()"
   ]
  },
  {
   "cell_type": "code",
   "execution_count": 6,
   "id": "f9db02a1-ee02-4d18-be1b-fd199b8fe3f5",
   "metadata": {},
   "outputs": [
    {
     "data": {
      "text/plain": [
       "(256, 94)"
      ]
     },
     "execution_count": 6,
     "metadata": {},
     "output_type": "execute_result"
    }
   ],
   "source": [
    "#amplitudes * matrix\n",
    "testa = np.array(((1,2,3),(1,2,3)))\n",
    "testb = np.array((1,2))\n",
    "np.multiply(testa,testb[:, np.newaxis])\n",
    "\n",
    "#creating all the waves\n",
    "time_x=np.arange(0, 1/res[0], 1.0/float(48000))\n",
    "\n",
    "tones = np.cos(2.0 * np.pi * freqs.reshape(freqs.shape[0],1)* time_x)\n",
    "tones.shape"
   ]
  },
  {
   "cell_type": "code",
   "execution_count": 7,
   "id": "ff34cf7c-cb13-4ed0-831d-8fd5faac9611",
   "metadata": {},
   "outputs": [],
   "source": [
    "tone_y_stereo=np.vstack(( tones[0], tones[3]))\n",
    "tone_y_stereo=tone_y_stereo.transpose()\n",
    "wavfile.write('testAudio.wav', 48000, tone_y_stereo)"
   ]
  },
  {
   "cell_type": "code",
   "execution_count": 8,
   "id": "b90a85ac-6d72-4bd7-a96d-b5eada8bf8d1",
   "metadata": {},
   "outputs": [
    {
     "data": {
      "text/plain": [
       "array([], dtype=int32)"
      ]
     },
     "execution_count": 8,
     "metadata": {},
     "output_type": "execute_result"
    }
   ],
   "source": [
    "np.arange(10,1)"
   ]
  },
  {
   "cell_type": "code",
   "execution_count": 9,
   "id": "73f68f67-2be8-41ef-9128-f9075ff48561",
   "metadata": {},
   "outputs": [
    {
     "data": {
      "text/plain": [
       "array([[ 0.84147098,  0.90929743,  0.14112001],\n",
       "       [ 0.90929743, -0.7568025 , -0.2794155 ],\n",
       "       [ 0.14112001, -0.2794155 ,  0.41211849]])"
      ]
     },
     "execution_count": 9,
     "metadata": {},
     "output_type": "execute_result"
    }
   ],
   "source": [
    "np.sin(np.array((1,2,3)).reshape(3,1)*np.array((1,2,3)))"
   ]
  },
  {
   "cell_type": "code",
   "execution_count": 10,
   "id": "dd72ed62-c58d-46a6-8adb-d15156be6299",
   "metadata": {},
   "outputs": [],
   "source": [
    "amps = dmap.T[30]\n",
    "amps = amps.reshape(amps.shape[0],1)\n",
    "succ = (amps*tones).sum(axis=0)\n",
    "succ = succ/succ.max()\n"
   ]
  },
  {
   "cell_type": "code",
   "execution_count": 11,
   "id": "c48586c0-c480-41f5-9de9-2348cc70e328",
   "metadata": {},
   "outputs": [
    {
     "data": {
      "text/plain": [
       "(94,)"
      ]
     },
     "execution_count": 11,
     "metadata": {},
     "output_type": "execute_result"
    }
   ],
   "source": [
    "succ.shape"
   ]
  },
  {
   "cell_type": "code",
   "execution_count": 12,
   "id": "2ce6ac9a-11f5-4a04-bcaf-23003481d851",
   "metadata": {},
   "outputs": [
    {
     "data": {
      "text/plain": [
       "2"
      ]
     },
     "execution_count": 12,
     "metadata": {},
     "output_type": "execute_result"
    }
   ],
   "source": [
    "a = np.array(((1,2),(5,6)))\n",
    "b = np.array(((3,4),(7,8)))\n",
    "np.hstack((a,b))\n",
    "len(a)"
   ]
  },
  {
   "cell_type": "code",
   "execution_count": 13,
   "id": "28f804ac-67aa-4bfa-b67e-5d2421e1a86c",
   "metadata": {},
   "outputs": [],
   "source": [
    "tone_y_stereo=np.vstack(( 5*succ, succ))\n",
    "tone_y_stereo=tone_y_stereo.transpose()\n",
    "wavfile.write('testAudio.wav', 48000, tone_y_stereo)"
   ]
  },
  {
   "cell_type": "code",
   "execution_count": null,
   "id": "0ab3b107-942a-4dd8-9d14-4a8789b52506",
   "metadata": {},
   "outputs": [],
   "source": []
  },
  {
   "cell_type": "code",
   "execution_count": 14,
   "id": "0cd7bc1b-3f62-4021-9777-9b02d113bf29",
   "metadata": {},
   "outputs": [
    {
     "data": {
      "text/plain": [
       "(94, 2)"
      ]
     },
     "execution_count": 14,
     "metadata": {},
     "output_type": "execute_result"
    }
   ],
   "source": [
    "tone_y_stereo.shape"
   ]
  },
  {
   "cell_type": "code",
   "execution_count": 15,
   "id": "fe406798-849e-405a-9604-53fa3e4213eb",
   "metadata": {},
   "outputs": [],
   "source": [
    "from fft import fft,ifft\n",
    "import math\n",
    "\n",
    "# time = np.linspace(0,1,920)\n",
    "# succ = np.sin(2*np.pi*4*time) + 2*np.sin(2*np.pi*7*time)\n",
    "succ0 = tones[0]\n",
    "\n",
    "m = 2**(math.ceil(math.log2(succ.size)))\n",
    "succpad = np.zeros((m))\n",
    "succpad[:succ.size] = succ\n",
    "\n",
    "f = np.fft.fft(succ)\n",
    "s = np.fft.ifft(f)"
   ]
  },
  {
   "cell_type": "code",
   "execution_count": 16,
   "id": "6e281e08-f13d-4268-b108-a57290a4adc3",
   "metadata": {},
   "outputs": [
    {
     "data": {
      "text/plain": [
       "(array([], dtype=int64),)"
      ]
     },
     "execution_count": 16,
     "metadata": {},
     "output_type": "execute_result"
    },
    {
     "data": {
      "image/png": "[encoded data removed]",
      "text/plain": [
       "<Figure size 1080x360 with 1 Axes>"
      ]
     },
     "metadata": {
      "needs_background": "light"
     },
     "output_type": "display_data"
    }
   ],
   "source": [
    "f = abs(f)[:f.shape[0]//2]\n",
    "plt.figure(0, figsize=(15,5))\n",
    "plt.subplot(121)\n",
    "plt.stem(f)\n",
    "\n",
    "np.where(f>100)"
   ]
  },
  {
   "cell_type": "code",
   "execution_count": 23,
   "id": "6228cda4-bbff-42a6-9bf0-7d7203f32f04",
   "metadata": {},
   "outputs": [
    {
     "data": {
      "text/plain": [
       "<StemContainer object of 3 artists>"
      ]
     },
     "execution_count": 23,
     "metadata": {},
     "output_type": "execute_result"
    },
    {
     "data": {
      "image/png": "[encoded data removed]",
      "text/plain": [
       "<Figure size 432x288 with 1 Axes>"
      ]
     },
     "metadata": {
      "needs_background": "light"
     },
     "output_type": "display_data"
    }
   ],
   "source": [
    "plt.stem(amps)"
   ]
  },
  {
   "cell_type": "code",
   "execution_count": 18,
   "id": "e9cc7f0e-cc12-4123-800e-66804594d717",
   "metadata": {},
   "outputs": [],
   "source": [
    "from vOICe import voice"
   ]
  },
  {
   "cell_type": "code",
   "execution_count": 19,
   "id": "92f4ae76-8115-499b-80d1-8215ec582930",
   "metadata": {},
   "outputs": [],
   "source": [
    "out = voice('dmaps/frame_0000.png', tones, res)"
   ]
  },
  {
   "cell_type": "code",
   "execution_count": 20,
   "id": "886df4bc-1733-47f3-a318-8ddb5d9eb696",
   "metadata": {},
   "outputs": [
    {
     "data": {
      "text/plain": [
       "48128"
      ]
     },
     "execution_count": 20,
     "metadata": {},
     "output_type": "execute_result"
    }
   ],
   "source": [
    "out.shape[0]"
   ]
  },
  {
   "cell_type": "code",
   "execution_count": 21,
   "id": "0d31b837-b7c6-4895-b4f0-7beed86f5f53",
   "metadata": {},
   "outputs": [
    {
     "data": {
      "text/plain": [
       "(array([], dtype=int64),)"
      ]
     },
     "execution_count": 21,
     "metadata": {},
     "output_type": "execute_result"
    },
    {
     "data": {
      "image/png": "[encoded data removed]",
      "text/plain": [
       "<Figure size 1080x360 with 1 Axes>"
      ]
     },
     "metadata": {
      "needs_background": "light"
     },
     "output_type": "display_data"
    }
   ],
   "source": [
    "check = out.T[0,int(30*48000/res[0]):int(31*48000/res[0])]\n",
    "\n",
    "f = np.fft.fft(check)\n",
    "s = np.fft.ifft(f)\n",
    "f = abs(f)[:f.shape[0]//2]\n",
    "plt.figure(0, figsize=(15,5))\n",
    "plt.subplot(121)\n",
    "plt.stem(f)\n",
    "\n",
    "np.where(f>100)"
   ]
  },
  {
   "cell_type": "code",
   "execution_count": 22,
   "id": "895c75b2-b93c-4975-bd01-102410c018e6",
   "metadata": {},
   "outputs": [],
   "source": [
    "wavfile.write('testAudio.wav', 48000, out)"
   ]
  },
  {
   "cell_type": "code",
   "execution_count": 24,
   "id": "6fffecac-185a-4e86-9e02-6850c28933cb",
   "metadata": {},
   "outputs": [
    {
     "name": "stdout",
     "output_type": "stream",
     "text": [
      "Collecting tqdm\n",
      "  Downloading tqdm-4.63.1-py2.py3-none-any.whl (76 kB)\n",
      "     ---------------------------------------- 76.6/76.6 KB 4.1 MB/s eta 0:00:00\n",
      "Requirement already satisfied: colorama in d:\\envs\\btp\\lib\\site-packages (from tqdm) (0.4.4)\n",
      "Installing collected packages: tqdm\n",
      "Successfully installed tqdm-4.63.1\n"
     ]
    }
   ],
   "source": [
    "!pip install tqdm"
   ]
  },
  {
   "cell_type": "code",
   "execution_count": null,
   "id": "e1a7c8ba-d7c5-4ab5-ac75-35b42a9fcae7",
   "metadata": {},
   "outputs": [],
   "source": []
  }
 ],
 "metadata": {
  "kernelspec": {
   "display_name": "Python 3 (ipykernel)",
   "language": "python",
   "name": "python3"
  },
  "language_info": {
   "codemirror_mode": {
    "name": "ipython",
    "version": 3
   },
   "file_extension": ".py",
   "mimetype": "text/x-python",
   "name": "python",
   "nbconvert_exporter": "python",
   "pygments_lexer": "ipython3",
   "version": "3.7.5"
  }
 },
 "nbformat": 4,
 "nbformat_minor": 5
}
